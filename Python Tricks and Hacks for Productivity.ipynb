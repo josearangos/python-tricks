{
 "cells": [
  {
   "cell_type": "markdown",
   "metadata": {},
   "source": [
    "## for-loop\n",
    "\n",
    "### Get the square of every number"
   ]
  },
  {
   "cell_type": "code",
   "execution_count": 1,
   "metadata": {},
   "outputs": [
    {
     "name": "stdout",
     "output_type": "stream",
     "text": [
      "[1, 4, 9, 16]\n"
     ]
    }
   ],
   "source": [
    "X = [1,2,3,4]\n",
    "\n",
    "new_X = []\n",
    "\n",
    "for x in X:\n",
    "    new_X.append(x**2)\n",
    "print(new_X)"
   ]
  },
  {
   "cell_type": "markdown",
   "metadata": {},
   "source": [
    "### Get only the odd numbers"
   ]
  },
  {
   "cell_type": "code",
   "execution_count": 2,
   "metadata": {},
   "outputs": [
    {
     "name": "stdout",
     "output_type": "stream",
     "text": [
      "[2, 4]\n"
     ]
    }
   ],
   "source": [
    "X = [1,2,3,4]\n",
    "\n",
    "new_X = []\n",
    "\n",
    "for x in X:\n",
    "    is_odd = ((x % 2 == 0))\n",
    "    if(is_odd):\n",
    "        new_X.append(x)\n",
    "print(new_X)"
   ]
  },
  {
   "cell_type": "markdown",
   "metadata": {},
   "source": [
    "### Get the square of the odd number"
   ]
  },
  {
   "cell_type": "code",
   "execution_count": 3,
   "metadata": {},
   "outputs": [
    {
     "name": "stdout",
     "output_type": "stream",
     "text": [
      "[4, 16, 36]\n"
     ]
    }
   ],
   "source": [
    "X = [1,2,3,4,5,6,7]\n",
    "\n",
    "new_X = []\n",
    "\n",
    "for x in X:\n",
    "    is_odd = ((x % 2 == 0))\n",
    "    if(is_odd):\n",
    "        new_X.append(x ** 2)\n",
    "print(new_X)"
   ]
  },
  {
   "cell_type": "markdown",
   "metadata": {},
   "source": [
    "## List comprehension\n",
    "\n",
    "### Get the square of every number"
   ]
  },
  {
   "cell_type": "code",
   "execution_count": 4,
   "metadata": {},
   "outputs": [
    {
     "name": "stdout",
     "output_type": "stream",
     "text": [
      "[1, 4, 9, 16, 25, 36]\n"
     ]
    }
   ],
   "source": [
    "X = [1,2,3,4,5,6]\n",
    "new_X = [x ** 2 for x in X]\n",
    "print(new_X)"
   ]
  },
  {
   "cell_type": "markdown",
   "metadata": {},
   "source": [
    "### Get the square of the odd numbers"
   ]
  },
  {
   "cell_type": "code",
   "execution_count": 5,
   "metadata": {},
   "outputs": [
    {
     "name": "stdout",
     "output_type": "stream",
     "text": [
      "[4, 16, 36]\n"
     ]
    }
   ],
   "source": [
    "X = [1,2,3,4,5,6]\n",
    "new_X = [x**2 for x in X if x%2==0]\n",
    "print(new_X)"
   ]
  },
  {
   "cell_type": "markdown",
   "metadata": {},
   "source": [
    "## Dictionary Comprehension"
   ]
  },
  {
   "cell_type": "code",
   "execution_count": 6,
   "metadata": {},
   "outputs": [
    {
     "name": "stdout",
     "output_type": "stream",
     "text": [
      "{2: 4, 4: 16, 6: 36}\n"
     ]
    }
   ],
   "source": [
    "X = [1,2,3,4,5,6]\n",
    "new_X = {x: x**2 for x in X if x%2==0}\n",
    "print(new_X)"
   ]
  },
  {
   "cell_type": "code",
   "execution_count": 7,
   "metadata": {},
   "outputs": [
    {
     "name": "stdout",
     "output_type": "stream",
     "text": [
      "dict_keys([2, 4, 6])\n"
     ]
    }
   ],
   "source": [
    "print(new_X.keys())"
   ]
  },
  {
   "cell_type": "code",
   "execution_count": 8,
   "metadata": {},
   "outputs": [
    {
     "name": "stdout",
     "output_type": "stream",
     "text": [
      "dict_values([4, 16, 36])\n"
     ]
    }
   ],
   "source": [
    "print(new_X.values())"
   ]
  },
  {
   "cell_type": "markdown",
   "metadata": {},
   "source": [
    "# Defaultdict and nametuple"
   ]
  },
  {
   "cell_type": "markdown",
   "metadata": {},
   "source": [
    "## Put deposits into the account balances"
   ]
  },
  {
   "cell_type": "code",
   "execution_count": 9,
   "metadata": {},
   "outputs": [],
   "source": [
    "account_balance =  {'Jonatahn':5.49, 'Markus':1.39}\n",
    "deposits =  {'Jonatahn':0.49, 'Markus':0.39}"
   ]
  },
  {
   "cell_type": "code",
   "execution_count": 10,
   "metadata": {},
   "outputs": [
    {
     "name": "stdout",
     "output_type": "stream",
     "text": [
      "{'Jonatahn': 5.98, 'Markus': 1.7799999999999998}\n"
     ]
    }
   ],
   "source": [
    "for account, deposit in deposits.items():\n",
    "    account_balance[account] += deposit\n",
    "print(account_balance)"
   ]
  },
  {
   "cell_type": "code",
   "execution_count": 11,
   "metadata": {},
   "outputs": [
    {
     "ename": "KeyError",
     "evalue": "'Jonatahn'",
     "output_type": "error",
     "traceback": [
      "\u001b[0;31m---------------------------------------------------------------------------\u001b[0m",
      "\u001b[0;31mKeyError\u001b[0m                                  Traceback (most recent call last)",
      "\u001b[0;32m<ipython-input-11-aeea7023cfc8>\u001b[0m in \u001b[0;36m<module>\u001b[0;34m\u001b[0m\n\u001b[1;32m      2\u001b[0m \u001b[0mdeposits\u001b[0m \u001b[0;34m=\u001b[0m \u001b[0;34m{\u001b[0m\u001b[0;34m'Jonatahn'\u001b[0m\u001b[0;34m:\u001b[0m\u001b[0;36m0.49\u001b[0m\u001b[0;34m,\u001b[0m \u001b[0;34m'Markus'\u001b[0m\u001b[0;34m:\u001b[0m\u001b[0;36m0.39\u001b[0m\u001b[0;34m,\u001b[0m\u001b[0;34m'Jamsheed'\u001b[0m\u001b[0;34m:\u001b[0m\u001b[0;36m100.00\u001b[0m\u001b[0;34m}\u001b[0m\u001b[0;34m\u001b[0m\u001b[0;34m\u001b[0m\u001b[0m\n\u001b[1;32m      3\u001b[0m \u001b[0;32mfor\u001b[0m \u001b[0maccount\u001b[0m\u001b[0;34m,\u001b[0m\u001b[0mdeposit\u001b[0m \u001b[0;32min\u001b[0m \u001b[0mdeposits\u001b[0m\u001b[0;34m.\u001b[0m\u001b[0mitems\u001b[0m\u001b[0;34m(\u001b[0m\u001b[0;34m)\u001b[0m\u001b[0;34m:\u001b[0m\u001b[0;34m\u001b[0m\u001b[0;34m\u001b[0m\u001b[0m\n\u001b[0;32m----> 4\u001b[0;31m     \u001b[0maccount_balance\u001b[0m\u001b[0;34m[\u001b[0m\u001b[0maccount\u001b[0m\u001b[0;34m]\u001b[0m \u001b[0;34m+=\u001b[0m \u001b[0mdeposit\u001b[0m\u001b[0;34m\u001b[0m\u001b[0;34m\u001b[0m\u001b[0m\n\u001b[0m",
      "\u001b[0;31mKeyError\u001b[0m: 'Jonatahn'"
     ]
    }
   ],
   "source": [
    "account_balance = {}\n",
    "deposits = {'Jonatahn':0.49, 'Markus':0.39,'Jamsheed':100.00}\n",
    "for account,deposit in deposits.items():\n",
    "    account_balance[account] += deposit"
   ]
  },
  {
   "cell_type": "code",
   "execution_count": 12,
   "metadata": {},
   "outputs": [],
   "source": [
    "# validation"
   ]
  },
  {
   "cell_type": "code",
   "execution_count": 13,
   "metadata": {},
   "outputs": [
    {
     "name": "stdout",
     "output_type": "stream",
     "text": [
      "{'Jonatahn': 0.49, 'Markus': 0.39, 'Jamsheed': 100.0}\n"
     ]
    }
   ],
   "source": [
    "account_balance = {}\n",
    "deposits = {'Jonatahn':0.49, 'Markus':0.39,'Jamsheed':100.00}\n",
    "for account,deposit in deposits.items():\n",
    "    if account not in account_balance:\n",
    "        account_balance[account] = 0\n",
    "    account_balance[account] += deposit\n",
    "print(account_balance)"
   ]
  },
  {
   "cell_type": "code",
   "execution_count": 14,
   "metadata": {},
   "outputs": [],
   "source": [
    "from  collections import defaultdict"
   ]
  },
  {
   "cell_type": "code",
   "execution_count": 15,
   "metadata": {},
   "outputs": [
    {
     "name": "stdout",
     "output_type": "stream",
     "text": [
      "defaultdict(<function <lambda> at 0x7f60c057bd40>, {'Jonatahn': 15.49, 'Markus': 15.39, 'Jamsheed': 115.0}) \n",
      "\n",
      "{'Jonatahn': 15.49, 'Markus': 15.39, 'Jamsheed': 115.0}\n"
     ]
    }
   ],
   "source": [
    "account_balance = defaultdict(lambda:15)\n",
    "\n",
    "deposits = {'Jonatahn':0.49, 'Markus':0.39,'Jamsheed':100.00}\n",
    "\n",
    "for account,deposit in deposits.items():\n",
    "    account_balance[account] +=deposit\n",
    "print(account_balance,'\\n')\n",
    "print(dict(account_balance))"
   ]
  },
  {
   "cell_type": "code",
   "execution_count": 16,
   "metadata": {},
   "outputs": [],
   "source": [
    "from typing import NamedTuple"
   ]
  },
  {
   "cell_type": "code",
   "execution_count": 17,
   "metadata": {},
   "outputs": [],
   "source": [
    "class Deposit(NamedTuple):\n",
    "    receiver:str\n",
    "    value:float"
   ]
  },
  {
   "cell_type": "code",
   "execution_count": 18,
   "metadata": {},
   "outputs": [
    {
     "data": {
      "text/plain": [
       "Deposit(receiver='Jose', value=12)"
      ]
     },
     "execution_count": 18,
     "metadata": {},
     "output_type": "execute_result"
    }
   ],
   "source": [
    "Deposit(receiver='Jose',value=12)"
   ]
  },
  {
   "cell_type": "code",
   "execution_count": 19,
   "metadata": {},
   "outputs": [],
   "source": [
    "account_balance = defaultdict(lambda:15)"
   ]
  },
  {
   "cell_type": "code",
   "execution_count": 20,
   "metadata": {},
   "outputs": [
    {
     "data": {
      "text/plain": [
       "{}"
      ]
     },
     "execution_count": 20,
     "metadata": {},
     "output_type": "execute_result"
    }
   ],
   "source": [
    "dict(account_balance)"
   ]
  },
  {
   "cell_type": "code",
   "execution_count": 21,
   "metadata": {},
   "outputs": [],
   "source": [
    "deposits = [\n",
    "    Deposit(receiver='Pedro',value=14),\n",
    "    Deposit(receiver='Maria',value=11),\n",
    "    Deposit(receiver='Carlos',value=43)\n",
    "]"
   ]
  },
  {
   "cell_type": "code",
   "execution_count": 22,
   "metadata": {},
   "outputs": [
    {
     "name": "stdout",
     "output_type": "stream",
     "text": [
      "{'Pedro': 29, 'Maria': 26, 'Carlos': 58}\n"
     ]
    }
   ],
   "source": [
    "for deposit in deposits:\n",
    "    account_balance[deposit.receiver] += deposit.value\n",
    "print(dict(account_balance))"
   ]
  },
  {
   "cell_type": "markdown",
   "metadata": {},
   "source": [
    "# Pythonic set and operations"
   ]
  },
  {
   "cell_type": "code",
   "execution_count": 23,
   "metadata": {},
   "outputs": [],
   "source": [
    "available_countries = {'india','bangladesh','pakistan','brazil'}\n",
    "forbidden_countries = {'USA','China','Europe'}\n",
    "new_countries={'egypt','China','india'}"
   ]
  },
  {
   "cell_type": "code",
   "execution_count": 24,
   "metadata": {},
   "outputs": [
    {
     "name": "stdout",
     "output_type": "stream",
     "text": [
      "{'india', 'pakistan', 'bangladesh', 'egypt', 'brazil'}\n"
     ]
    }
   ],
   "source": [
    "update_countries = available_countries | (new_countries - forbidden_countries)\n",
    "print(update_countries)"
   ]
  },
  {
   "cell_type": "code",
   "execution_count": 25,
   "metadata": {},
   "outputs": [
    {
     "data": {
      "text/plain": [
       "{'China', 'egypt', 'india'}"
      ]
     },
     "execution_count": 25,
     "metadata": {},
     "output_type": "execute_result"
    }
   ],
   "source": [
    "new_countries"
   ]
  },
  {
   "cell_type": "code",
   "execution_count": 26,
   "metadata": {},
   "outputs": [
    {
     "data": {
      "text/plain": [
       "{'egypt', 'india'}"
      ]
     },
     "execution_count": 26,
     "metadata": {},
     "output_type": "execute_result"
    }
   ],
   "source": [
    "new_countries - forbidden_countries"
   ]
  },
  {
   "cell_type": "code",
   "execution_count": 27,
   "metadata": {},
   "outputs": [
    {
     "data": {
      "text/plain": [
       "{'China', 'bangladesh', 'brazil', 'egypt', 'india', 'pakistan'}"
      ]
     },
     "execution_count": 27,
     "metadata": {},
     "output_type": "execute_result"
    }
   ],
   "source": [
    "available_countries | new_countries"
   ]
  },
  {
   "cell_type": "code",
   "execution_count": 28,
   "metadata": {},
   "outputs": [
    {
     "data": {
      "text/plain": [
       "{'india'}"
      ]
     },
     "execution_count": 28,
     "metadata": {},
     "output_type": "execute_result"
    }
   ],
   "source": [
    "available_countries & new_countries"
   ]
  },
  {
   "cell_type": "markdown",
   "metadata": {},
   "source": [
    "# Type hinting"
   ]
  },
  {
   "cell_type": "code",
   "execution_count": 29,
   "metadata": {},
   "outputs": [],
   "source": [
    "def function(a,b,c):\n",
    "    var_1= a-b\n",
    "    var_2=c & b\n",
    "    var_3= var_2 | var_1\n",
    "    return var_3"
   ]
  },
  {
   "cell_type": "code",
   "execution_count": 30,
   "metadata": {},
   "outputs": [
    {
     "data": {
      "text/plain": [
       "{1, 2, 5}"
      ]
     },
     "execution_count": 30,
     "metadata": {},
     "output_type": "execute_result"
    }
   ],
   "source": [
    "a = {1,2,3}\n",
    "b = {3,4,5}\n",
    "c = {5,6,7}\n",
    "r =function(a,b,c)\n",
    "r"
   ]
  },
  {
   "cell_type": "code",
   "execution_count": 31,
   "metadata": {},
   "outputs": [
    {
     "data": {
      "text/plain": [
       "-1"
      ]
     },
     "execution_count": 31,
     "metadata": {},
     "output_type": "execute_result"
    }
   ],
   "source": [
    "function(1,2,3)"
   ]
  },
  {
   "cell_type": "markdown",
   "metadata": {},
   "source": [
    "Error"
   ]
  },
  {
   "cell_type": "code",
   "execution_count": 32,
   "metadata": {},
   "outputs": [
    {
     "ename": "TypeError",
     "evalue": "unsupported operand type(s) for |: 'int' and 'float'",
     "output_type": "error",
     "traceback": [
      "\u001b[0;31m---------------------------------------------------------------------------\u001b[0m",
      "\u001b[0;31mTypeError\u001b[0m                                 Traceback (most recent call last)",
      "\u001b[0;32m<ipython-input-32-75f563e019d6>\u001b[0m in \u001b[0;36m<module>\u001b[0;34m\u001b[0m\n\u001b[0;32m----> 1\u001b[0;31m \u001b[0mfunction\u001b[0m\u001b[0;34m(\u001b[0m\u001b[0;36m1.4\u001b[0m\u001b[0;34m,\u001b[0m\u001b[0;36m5\u001b[0m\u001b[0;34m,\u001b[0m\u001b[0;36m1\u001b[0m\u001b[0;34m)\u001b[0m\u001b[0;34m\u001b[0m\u001b[0;34m\u001b[0m\u001b[0m\n\u001b[0m",
      "\u001b[0;32m<ipython-input-29-5a6475b12aaf>\u001b[0m in \u001b[0;36mfunction\u001b[0;34m(a, b, c)\u001b[0m\n\u001b[1;32m      2\u001b[0m     \u001b[0mvar_1\u001b[0m\u001b[0;34m=\u001b[0m \u001b[0ma\u001b[0m\u001b[0;34m-\u001b[0m\u001b[0mb\u001b[0m\u001b[0;34m\u001b[0m\u001b[0;34m\u001b[0m\u001b[0m\n\u001b[1;32m      3\u001b[0m     \u001b[0mvar_2\u001b[0m\u001b[0;34m=\u001b[0m\u001b[0mc\u001b[0m \u001b[0;34m&\u001b[0m \u001b[0mb\u001b[0m\u001b[0;34m\u001b[0m\u001b[0;34m\u001b[0m\u001b[0m\n\u001b[0;32m----> 4\u001b[0;31m     \u001b[0mvar_3\u001b[0m\u001b[0;34m=\u001b[0m \u001b[0mvar_2\u001b[0m \u001b[0;34m|\u001b[0m \u001b[0mvar_1\u001b[0m\u001b[0;34m\u001b[0m\u001b[0;34m\u001b[0m\u001b[0m\n\u001b[0m\u001b[1;32m      5\u001b[0m     \u001b[0;32mreturn\u001b[0m \u001b[0mvar_3\u001b[0m\u001b[0;34m\u001b[0m\u001b[0;34m\u001b[0m\u001b[0m\n",
      "\u001b[0;31mTypeError\u001b[0m: unsupported operand type(s) for |: 'int' and 'float'"
     ]
    }
   ],
   "source": [
    "function(1.4,5,1)"
   ]
  },
  {
   "cell_type": "markdown",
   "metadata": {},
   "source": [
    " Fixed error"
   ]
  },
  {
   "cell_type": "code",
   "execution_count": 33,
   "metadata": {},
   "outputs": [],
   "source": [
    "def function(a:set,b:set,c:set) -> set :\n",
    "    var_1= a-b\n",
    "    var_2=c & b\n",
    "    var_3= var_2 | var_1\n",
    "    return var_3"
   ]
  },
  {
   "cell_type": "code",
   "execution_count": 34,
   "metadata": {},
   "outputs": [
    {
     "data": {
      "text/plain": [
       "{1, 2, 5}"
      ]
     },
     "execution_count": 34,
     "metadata": {},
     "output_type": "execute_result"
    }
   ],
   "source": [
    "a:set = {1,2,3}\n",
    "b:set = {3,4,5}\n",
    "c:set= {5,6,7}\n",
    "r:set =function(a,b,c)\n",
    "r"
   ]
  },
  {
   "cell_type": "code",
   "execution_count": 35,
   "metadata": {},
   "outputs": [],
   "source": [
    "a: object = None\n",
    "b: dict ={'a':5}\n",
    "c : list = []"
   ]
  },
  {
   "cell_type": "code",
   "execution_count": 36,
   "metadata": {},
   "outputs": [],
   "source": [
    "def function(a:str,d:set,b:float,c:list=[],e:dict={}) -> bool :\n",
    "    pass"
   ]
  },
  {
   "cell_type": "markdown",
   "metadata": {},
   "source": [
    "# Wrangling with zip and starred expressions"
   ]
  },
  {
   "cell_type": "code",
   "execution_count": 37,
   "metadata": {},
   "outputs": [],
   "source": [
    "from typing import NamedTuple"
   ]
  },
  {
   "cell_type": "code",
   "execution_count": 38,
   "metadata": {},
   "outputs": [],
   "source": [
    "class Record(NamedTuple):\n",
    "    name:str\n",
    "    value:float"
   ]
  },
  {
   "cell_type": "code",
   "execution_count": 39,
   "metadata": {},
   "outputs": [
    {
     "name": "stdout",
     "output_type": "stream",
     "text": [
      "[Record(name='Pichai', value=10), Record(name='Lula', value=13), Record(name='Trump', value=20)]\n"
     ]
    }
   ],
   "source": [
    "# Tradicional Join\n",
    "\n",
    "names = ['Pichai','Lula','Trump']\n",
    "values = [10,13,20]\n",
    "\n",
    "records = []\n",
    "for i,name in enumerate(names):\n",
    "    value = values[i]\n",
    "    record=Record(name=name,value=value)\n",
    "    records.append(record)\n",
    "print(records)"
   ]
  },
  {
   "cell_type": "markdown",
   "metadata": {},
   "source": [
    "# Join using zip"
   ]
  },
  {
   "cell_type": "code",
   "execution_count": 41,
   "metadata": {},
   "outputs": [
    {
     "name": "stdout",
     "output_type": "stream",
     "text": [
      "<zip object at 0x7f60b24a2190>\n",
      "[('Pichai', 10), ('Lula', 13), ('Trump', 20)]\n"
     ]
    }
   ],
   "source": [
    "names = ['Pichai','Lula','Trump']\n",
    "values = [10,13,20]\n",
    "\n",
    "records = zip(names,values)\n",
    "print(records)\n",
    "print(list(records))"
   ]
  },
  {
   "cell_type": "markdown",
   "metadata": {},
   "source": [
    "## Using comprehensions"
   ]
  },
  {
   "cell_type": "code",
   "execution_count": 42,
   "metadata": {},
   "outputs": [
    {
     "name": "stdout",
     "output_type": "stream",
     "text": [
      "[Record(name='Pichai', value=10), Record(name='Lula', value=13), Record(name='Trump', value=20)]\n"
     ]
    }
   ],
   "source": [
    "names = ['Pichai','Lula','Trump']\n",
    "values = [10,13,20]\n",
    "\n",
    "zipped_records = zip(names,values)\n",
    "records = [Record(name,value) for (name,value) in zipped_records]\n",
    "print(records)"
   ]
  },
  {
   "cell_type": "markdown",
   "metadata": {},
   "source": [
    "## Using *arguments"
   ]
  },
  {
   "cell_type": "code",
   "execution_count": 43,
   "metadata": {},
   "outputs": [
    {
     "name": "stdout",
     "output_type": "stream",
     "text": [
      "[Record(name='Pichai', value=10), Record(name='Lula', value=13), Record(name='Trump', value=20)]\n"
     ]
    }
   ],
   "source": [
    "names = ['Pichai','Lula','Trump']\n",
    "values = [10,13,20]\n",
    "zipped_records = zip(names,values)\n",
    "records = [Record(*record) for record in zipped_records]\n",
    "print(records)"
   ]
  },
  {
   "cell_type": "markdown",
   "metadata": {},
   "source": [
    "### Traditional unjoin "
   ]
  },
  {
   "cell_type": "code",
   "execution_count": 44,
   "metadata": {},
   "outputs": [
    {
     "name": "stdout",
     "output_type": "stream",
     "text": [
      "['Pichai', 'Lula', 'Trump']\n",
      "[10, 13, 20]\n"
     ]
    }
   ],
   "source": [
    "names = ['Pichai','Lula','Trump']\n",
    "values = [10,13,20]\n",
    "zipped_records = zip(names,values)\n",
    "records = [Record(*record) for record in zipped_records]\n",
    "\n",
    "new_names = []\n",
    "new_values = []\n",
    "for record in records:\n",
    "    new_names.append(record.name)\n",
    "    new_values.append(record.value)\n",
    "print(new_names)\n",
    "print(new_values)"
   ]
  },
  {
   "cell_type": "markdown",
   "metadata": {},
   "source": [
    "### Zip unjoin "
   ]
  },
  {
   "cell_type": "code",
   "execution_count": 47,
   "metadata": {},
   "outputs": [
    {
     "name": "stdout",
     "output_type": "stream",
     "text": [
      "('Pichai', 'Lula', 'Trump')\n",
      "(10, 13, 20)\n"
     ]
    }
   ],
   "source": [
    "names = ['Pichai','Lula','Trump']\n",
    "values = [10,13,20]\n",
    "zipped_records = zip(names,values)\n",
    "records = [Record(*record) for record in zipped_records]\n",
    "\n",
    "(new_names,new_values) = zip(*records)\n",
    "print(new_names)\n",
    "print(new_values)"
   ]
  },
  {
   "cell_type": "markdown",
   "metadata": {},
   "source": [
    "# Function wiht *arguments"
   ]
  },
  {
   "cell_type": "code",
   "execution_count": 48,
   "metadata": {},
   "outputs": [],
   "source": [
    "def f(*arguments):\n",
    "    for argument in arguments:\n",
    "        print(argument)"
   ]
  },
  {
   "cell_type": "code",
   "execution_count": 49,
   "metadata": {},
   "outputs": [],
   "source": [
    "f()"
   ]
  },
  {
   "cell_type": "code",
   "execution_count": 50,
   "metadata": {},
   "outputs": [
    {
     "name": "stdout",
     "output_type": "stream",
     "text": [
      "1\n",
      "2\n",
      "3\n",
      "4\n"
     ]
    }
   ],
   "source": [
    "f(1,2,3,4)"
   ]
  },
  {
   "cell_type": "code",
   "execution_count": 51,
   "metadata": {},
   "outputs": [
    {
     "name": "stdout",
     "output_type": "stream",
     "text": [
      "[1, 2, 3, 4]\n"
     ]
    }
   ],
   "source": [
    "f([1,2,3,4])"
   ]
  },
  {
   "cell_type": "code",
   "execution_count": 52,
   "metadata": {},
   "outputs": [
    {
     "name": "stdout",
     "output_type": "stream",
     "text": [
      "1\n",
      "2\n",
      "3\n",
      "46\n",
      "6\n"
     ]
    }
   ],
   "source": [
    "f(*[1,2,3,46,6])"
   ]
  },
  {
   "cell_type": "markdown",
   "metadata": {},
   "source": [
    "# Multiprocessing and progress bars"
   ]
  },
  {
   "cell_type": "code",
   "execution_count": 54,
   "metadata": {},
   "outputs": [],
   "source": [
    "from tqdm.auto import tqdm"
   ]
  },
  {
   "cell_type": "markdown",
   "metadata": {},
   "source": [
    "# 1. Progress bars"
   ]
  },
  {
   "cell_type": "markdown",
   "metadata": {},
   "source": [
    "## One Loop"
   ]
  },
  {
   "cell_type": "code",
   "execution_count": 62,
   "metadata": {},
   "outputs": [
    {
     "data": {
      "application/vnd.jupyter.widget-view+json": {
       "model_id": "c5427bdf01294ff7bc08c2471bad3b98",
       "version_major": 2,
       "version_minor": 0
      },
      "text/plain": [
       "HBox(children=(FloatProgress(value=0.0, description='iterating logistic map', max=5000000.0, style=ProgressSty…"
      ]
     },
     "metadata": {},
     "output_type": "display_data"
    },
    {
     "name": "stdout",
     "output_type": "stream",
     "text": [
      "\n",
      "done!\n"
     ]
    }
   ],
   "source": [
    "N = int(5e6)\n",
    "a = 3.8\n",
    "\n",
    "def logistic_map(a:float, x:float) -> float:\n",
    "    return a * x * (1 - x)\n",
    "\n",
    "x = 0.9\n",
    "for i in tqdm(range(N),desc='iterating logistic map'):\n",
    "    x=logistic_map(a,x)\n",
    "print(\"done!\")"
   ]
  },
  {
   "cell_type": "markdown",
   "metadata": {},
   "source": [
    "## Many loops"
   ]
  },
  {
   "cell_type": "code",
   "execution_count": 63,
   "metadata": {},
   "outputs": [
    {
     "data": {
      "application/vnd.jupyter.widget-view+json": {
       "model_id": "1a4401ec949f4352926878c073466d1a",
       "version_major": 2,
       "version_minor": 0
      },
      "text/plain": [
       "HBox(children=(FloatProgress(value=0.0, description='Iterating on the logistic map', max=4.0, style=ProgressSt…"
      ]
     },
     "metadata": {},
     "output_type": "display_data"
    },
    {
     "data": {
      "application/vnd.jupyter.widget-view+json": {
       "model_id": "3cdbb2177d6f4b119d3cf6a43460be5e",
       "version_major": 2,
       "version_minor": 0
      },
      "text/plain": [
       "HBox(children=(FloatProgress(value=0.0, description='Initial value: {x_0}', max=5000000.0, style=ProgressStyle…"
      ]
     },
     "metadata": {},
     "output_type": "display_data"
    },
    {
     "name": "stdout",
     "output_type": "stream",
     "text": [
      "\n"
     ]
    },
    {
     "data": {
      "application/vnd.jupyter.widget-view+json": {
       "model_id": "6b472d15ebac4d36ad777d9d14644f27",
       "version_major": 2,
       "version_minor": 0
      },
      "text/plain": [
       "HBox(children=(FloatProgress(value=0.0, description='Initial value: {x_0}', max=5000000.0, style=ProgressStyle…"
      ]
     },
     "metadata": {},
     "output_type": "display_data"
    },
    {
     "name": "stdout",
     "output_type": "stream",
     "text": [
      "\n"
     ]
    },
    {
     "data": {
      "application/vnd.jupyter.widget-view+json": {
       "model_id": "c7f07b81f066485c9a71f75d2d30ef1c",
       "version_major": 2,
       "version_minor": 0
      },
      "text/plain": [
       "HBox(children=(FloatProgress(value=0.0, description='Initial value: {x_0}', max=5000000.0, style=ProgressStyle…"
      ]
     },
     "metadata": {},
     "output_type": "display_data"
    },
    {
     "name": "stdout",
     "output_type": "stream",
     "text": [
      "\n"
     ]
    },
    {
     "data": {
      "application/vnd.jupyter.widget-view+json": {
       "model_id": "1fb09a0bfcae4ff9a70d0cfff412ce7a",
       "version_major": 2,
       "version_minor": 0
      },
      "text/plain": [
       "HBox(children=(FloatProgress(value=0.0, description='Initial value: {x_0}', max=5000000.0, style=ProgressStyle…"
      ]
     },
     "metadata": {},
     "output_type": "display_data"
    },
    {
     "name": "stdout",
     "output_type": "stream",
     "text": [
      "\n",
      "\n",
      "Done!\n"
     ]
    }
   ],
   "source": [
    "N = int(5e6)\n",
    "a = 3.8\n",
    "x_i = [0.2,0.4,0.6,0.8]\n",
    "\n",
    "def logistic_map(a:float, x:float) -> float:\n",
    "    return a * x * (1 - x)\n",
    "\n",
    "for x_0 in tqdm(x_i,desc=f'Iterating on the logistic map'):\n",
    "    x = x_0\n",
    "    for i in tqdm(range(N),desc='Initial value: {x_0}'):\n",
    "        x=logistic_map(a,x)\n",
    "print(\"Done!\")"
   ]
  },
  {
   "cell_type": "markdown",
   "metadata": {},
   "source": [
    "# 2. Multiprocessing "
   ]
  },
  {
   "cell_type": "code",
   "execution_count": 64,
   "metadata": {},
   "outputs": [],
   "source": [
    "from multiprocessing.pool import Pool"
   ]
  },
  {
   "cell_type": "code",
   "execution_count": 70,
   "metadata": {},
   "outputs": [
    {
     "data": {
      "application/vnd.jupyter.widget-view+json": {
       "model_id": "3879c9dcafba46ecb7d90940ef53b341",
       "version_major": 2,
       "version_minor": 0
      },
      "text/plain": [
       "HBox(children=(FloatProgress(value=0.0, description='Iterating on the logistic map', max=4.0, style=ProgressSt…"
      ]
     },
     "metadata": {},
     "output_type": "display_data"
    },
    {
     "data": {
      "application/vnd.jupyter.widget-view+json": {
       "model_id": "86b079ef465940afa50730a037337e32",
       "version_major": 2,
       "version_minor": 0
      },
      "text/plain": [
       "HBox(children=(FloatProgress(value=0.0, description='Initial value: {x_0}', max=5000000.0, style=ProgressStyle…"
      ]
     },
     "metadata": {},
     "output_type": "display_data"
    },
    {
     "name": "stdout",
     "output_type": "stream",
     "text": [
      "\n",
      "0.5904506121259498\n"
     ]
    },
    {
     "data": {
      "application/vnd.jupyter.widget-view+json": {
       "model_id": "0a7303f65ccc42188997e9df1cc80843",
       "version_major": 2,
       "version_minor": 0
      },
      "text/plain": [
       "HBox(children=(FloatProgress(value=0.0, description='Initial value: {x_0}', max=5000000.0, style=ProgressStyle…"
      ]
     },
     "metadata": {},
     "output_type": "display_data"
    },
    {
     "name": "stdout",
     "output_type": "stream",
     "text": [
      "\n",
      "0.948578349745379\n"
     ]
    },
    {
     "data": {
      "application/vnd.jupyter.widget-view+json": {
       "model_id": "acb90b5384ba45e3975e72ef1193496a",
       "version_major": 2,
       "version_minor": 0
      },
      "text/plain": [
       "HBox(children=(FloatProgress(value=0.0, description='Initial value: {x_0}', max=5000000.0, style=ProgressStyle…"
      ]
     },
     "metadata": {},
     "output_type": "display_data"
    },
    {
     "name": "stdout",
     "output_type": "stream",
     "text": [
      "\n",
      "0.948578349745379\n"
     ]
    },
    {
     "data": {
      "application/vnd.jupyter.widget-view+json": {
       "model_id": "cd4afe9dae474e16a3939268e47805fc",
       "version_major": 2,
       "version_minor": 0
      },
      "text/plain": [
       "HBox(children=(FloatProgress(value=0.0, description='Initial value: {x_0}', max=5000000.0, style=ProgressStyle…"
      ]
     },
     "metadata": {},
     "output_type": "display_data"
    },
    {
     "name": "stdout",
     "output_type": "stream",
     "text": [
      "\n",
      "0.5198490289233741\n",
      "\n"
     ]
    }
   ],
   "source": [
    "\"\"\"\n",
    "Define function to parallelize\n",
    "\"\"\"\n",
    "\n",
    "N = int(5e6)\n",
    "a = 3.8\n",
    "x_i = [0.2,0.4,0.6,0.8]\n",
    "\n",
    "def logistic_map(a:float, x:float) -> float:\n",
    "    return a * x * (1 - x)\n",
    "\n",
    "def logistic_simulation(x_0):\n",
    "    x = x_0\n",
    "    for i in tqdm(range(N),desc='Initial value: {x_0}'):\n",
    "        x=logistic_map(a,x)\n",
    "    return x\n",
    "for x_0 in tqdm(x_i,desc=f'Iterating on the logistic map'):\n",
    "    output=logistic_simulation(x_0)\n",
    "    print(output)"
   ]
  },
  {
   "cell_type": "markdown",
   "metadata": {},
   "source": [
    "# Using Pool"
   ]
  },
  {
   "cell_type": "code",
   "execution_count": 73,
   "metadata": {},
   "outputs": [
    {
     "name": "stdout",
     "output_type": "stream",
     "text": [
      "[0.5904506121259498, 0.948578349745379, 0.948578349745379, 0.5198490289233741]\n"
     ]
    }
   ],
   "source": [
    "N = int(5e6)\n",
    "a = 3.8\n",
    "x_i = [0.2,0.4,0.6,0.8]\n",
    "\n",
    "def logistic_map(a:float, x:float) -> float:\n",
    "    return a * x * (1 - x)\n",
    "\n",
    "def logistic_simulation(x_0):\n",
    "    x = x_0\n",
    "    for i in range(N):\n",
    "        x=logistic_map(a,x)\n",
    "    return x\n",
    "\n",
    "with Pool() as p:\n",
    "    \"\"\"\n",
    "    map retorna una lista y ejecuta la función logistic_simulation \n",
    "    tantas veces como valores tenga x_i    \n",
    "    \"\"\"\n",
    "    output=p.map(logistic_simulation,x_i) \n",
    "print(output)  "
   ]
  },
  {
   "cell_type": "markdown",
   "metadata": {},
   "source": [
    "# Progress bar and multiprocessing"
   ]
  },
  {
   "cell_type": "code",
   "execution_count": 79,
   "metadata": {},
   "outputs": [
    {
     "data": {
      "application/vnd.jupyter.widget-view+json": {
       "model_id": "e8fa69163e2742fd84a38079d798236e",
       "version_major": 2,
       "version_minor": 0
      },
      "text/plain": [
       "HBox(children=(FloatProgress(value=0.0, description='Sweeping values', max=4.0, style=ProgressStyle(descriptio…"
      ]
     },
     "metadata": {},
     "output_type": "display_data"
    },
    {
     "name": "stdout",
     "output_type": "stream",
     "text": [
      "\n",
      "[0.5904506121259498, 0.948578349745379, 0.948578349745379, 0.5198490289233741]\n"
     ]
    }
   ],
   "source": [
    "N = int(5e6)\n",
    "a = 3.8\n",
    "x_i = [0.2,0.4,0.6,0.8]\n",
    "\n",
    "def logistic_map(a:float, x:float) -> float:\n",
    "    return a * x * (1 - x)\n",
    "\n",
    "def logistic_simulation(x_0):\n",
    "    x = x_0\n",
    "    for i in range(N):\n",
    "        x=logistic_map(a,x)\n",
    "    return x\n",
    "\n",
    "with Pool() as p:\n",
    "    iterator = p.imap(logistic_simulation,x_i)\n",
    "    output= tqdm(iterator,total=len(x_i),desc='Sweeping values')\n",
    "    output = list(output)    \n",
    "print(output)  "
   ]
  },
  {
   "cell_type": "markdown",
   "metadata": {},
   "source": [
    "# String formatting with .format and f-strings"
   ]
  },
  {
   "cell_type": "markdown",
   "metadata": {},
   "source": [
    "Traditional formatting"
   ]
  },
  {
   "cell_type": "code",
   "execution_count": 82,
   "metadata": {},
   "outputs": [
    {
     "name": "stdout",
     "output_type": "stream",
     "text": [
      "Hi there!\n",
      "I'm learning how to format texts through task 7\n"
     ]
    }
   ],
   "source": [
    "task_no = 7\n",
    "text = \"Hi there!\"\n",
    "text += \"\\n\"\n",
    "text +=\"I'm learning how to format texts\"\n",
    "text += \" through task \"\n",
    "text += str(task_no)\n",
    "print(text)"
   ]
  },
  {
   "cell_type": "markdown",
   "metadata": {},
   "source": [
    "Usign \"\"\"\n"
   ]
  },
  {
   "cell_type": "code",
   "execution_count": 83,
   "metadata": {},
   "outputs": [
    {
     "name": "stdout",
     "output_type": "stream",
     "text": [
      "\n",
      "Hi there!\n",
      "I'm learning how to format texts  through task 7\n"
     ]
    }
   ],
   "source": [
    "task_no = 7\n",
    "text = \"\"\"\n",
    "Hi there!\n",
    "I'm learning how to format texts  through task \"\"\"\n",
    "text += str(task_no)\n",
    "print(text)"
   ]
  },
  {
   "cell_type": "markdown",
   "metadata": {},
   "source": [
    "Usign <b>Format</b> one parametre"
   ]
  },
  {
   "cell_type": "code",
   "execution_count": 84,
   "metadata": {},
   "outputs": [
    {
     "name": "stdout",
     "output_type": "stream",
     "text": [
      "\n",
      "Hi there!\n",
      "I'm learning how to format texts  through task 7\n"
     ]
    }
   ],
   "source": [
    "task_no = 7\n",
    "text = \"\"\"\n",
    "Hi there!\n",
    "I'm learning how to format texts  through task {}\"\"\"\n",
    "print(text.format(task_no))"
   ]
  },
  {
   "cell_type": "code",
   "execution_count": 86,
   "metadata": {},
   "outputs": [
    {
     "name": "stdout",
     "output_type": "stream",
     "text": [
      "\n",
      "Hi there!\n",
      "I'm learning how to format texts  through task 7.00\n"
     ]
    }
   ],
   "source": [
    "task_no = 7\n",
    "text = \"\"\"\n",
    "Hi there!\n",
    "I'm learning how to format texts  through task {:.2f}\"\"\"\n",
    "print(text.format(task_no))"
   ]
  },
  {
   "cell_type": "markdown",
   "metadata": {},
   "source": [
    "Usign <b>Format</b> many parametre"
   ]
  },
  {
   "cell_type": "code",
   "execution_count": 87,
   "metadata": {},
   "outputs": [
    {
     "name": "stdout",
     "output_type": "stream",
     "text": [
      "\n",
      "Hi there!\n",
      "I'm learning how to format texts  through task 7.00\n"
     ]
    }
   ],
   "source": [
    "task_no = 7\n",
    "learning_object = \"texts\"\n",
    "text = \"\"\"\n",
    "Hi there!\n",
    "I'm learning how to format {}  through task {:.2f}\"\"\"\n",
    "print(text.format(learning_object,task_no))"
   ]
  },
  {
   "cell_type": "markdown",
   "metadata": {},
   "source": [
    "Usign <b>Format</b> many parametres specific"
   ]
  },
  {
   "cell_type": "code",
   "execution_count": 94,
   "metadata": {},
   "outputs": [
    {
     "name": "stdout",
     "output_type": "stream",
     "text": [
      "\n",
      "Hi there!\n",
      "I'm learning how to format texts  through task 7\n"
     ]
    }
   ],
   "source": [
    "format_objects = {'task_no' : 7, 'learning_object' : \"texts\"}\n",
    "text = \"\"\"\n",
    "Hi there!\n",
    "I'm learning how to format {learning_object}  through task {task_no}\"\"\"\n",
    "\n",
    "print(text.format(**format_objects))"
   ]
  },
  {
   "cell_type": "code",
   "execution_count": 95,
   "metadata": {},
   "outputs": [
    {
     "name": "stdout",
     "output_type": "stream",
     "text": [
      "\n",
      "Hi there!\n",
      "I'm learning how to format texts  through task 7.00\n"
     ]
    }
   ],
   "source": [
    "task_no = 7\n",
    "learning_object = \"texts\"\n",
    "text = f\"\"\"\n",
    "Hi there!\n",
    "I'm learning how to format {learning_object}  through task {task_no:.2f}\"\"\"\n",
    "print(text)"
   ]
  },
  {
   "cell_type": "code",
   "execution_count": 102,
   "metadata": {},
   "outputs": [
    {
     "name": "stdout",
     "output_type": "stream",
     "text": [
      "My grade on the Python Tricks and Hacks Course is 100%\n"
     ]
    }
   ],
   "source": [
    "grade = 100\n",
    "text = \"My grade on the Python Tricks and Hacks Course is \"\n",
    "text += str(grade)\n",
    "text += \"%\"\n",
    "print(text)"
   ]
  },
  {
   "cell_type": "code",
   "execution_count": 105,
   "metadata": {},
   "outputs": [
    {
     "ename": "SyntaxError",
     "evalue": "f-string: empty expression not allowed (<ipython-input-105-5575f3e040ec>, line 2)",
     "output_type": "error",
     "traceback": [
      "\u001b[0;36m  File \u001b[0;32m\"<ipython-input-105-5575f3e040ec>\"\u001b[0;36m, line \u001b[0;32m2\u001b[0m\n\u001b[0;31m    text = f'My grade on the Python Tricks and Hacks Course is {}'\u001b[0m\n\u001b[0m          ^\u001b[0m\n\u001b[0;31mSyntaxError\u001b[0m\u001b[0;31m:\u001b[0m f-string: empty expression not allowed\n"
     ]
    }
   ],
   "source": [
    "grade = 100\n",
    "text = f'My grade on the Python Tricks and Hacks Course is {}'\n",
    "print(text.format(grade))"
   ]
  },
  {
   "cell_type": "code",
   "execution_count": null,
   "metadata": {},
   "outputs": [],
   "source": []
  }
 ],
 "metadata": {
  "kernelspec": {
   "display_name": "Python 3",
   "language": "python",
   "name": "python3"
  },
  "language_info": {
   "codemirror_mode": {
    "name": "ipython",
    "version": 3
   },
   "file_extension": ".py",
   "mimetype": "text/x-python",
   "name": "python",
   "nbconvert_exporter": "python",
   "pygments_lexer": "ipython3",
   "version": "3.7.5"
  }
 },
 "nbformat": 4,
 "nbformat_minor": 2
}
